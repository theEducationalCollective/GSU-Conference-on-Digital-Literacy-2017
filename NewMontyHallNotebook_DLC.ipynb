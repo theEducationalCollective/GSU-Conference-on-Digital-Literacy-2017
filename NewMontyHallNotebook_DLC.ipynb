{
 "cells": [
  {
   "cell_type": "markdown",
   "metadata": {},
   "source": [
    "# The Monty Hall Problem\n",
    "This program in an \"IPython Notebook\" (AKA \"[Jupyter](http://jupyter.org/) Notebook\") it is basically a sort of computational sketchbook where you can write, test, and interaact with computer code and mix in formatted text to remind youself what you were doing.\n",
    "\n",
    "This system supports Python and about 40 other computer languages. [See here](https://github.com/jupyter/jupyter/wiki/Jupyter-kernels). (Note that the sentence before this contains a working web link.)\n",
    "\n",
    "Python is a computer language with very little overhead, the next cell is all we need to set up everything we do below. Note that it does not all need to be done at once, I could have loaded each library as I needed it or **more importantly** as I _discovered_ that I needed it!"
   ]
  },
  {
   "cell_type": "code",
   "execution_count": 1,
   "metadata": {
    "collapsed": true
   },
   "outputs": [],
   "source": [
    "%matplotlib inline\n",
    "\n",
    "from __future__ import division\n",
    "\n",
    "import random\n",
    "import numpy             as np\n",
    "import matplotlib.pyplot as plt"
   ]
  },
  {
   "cell_type": "markdown",
   "metadata": {},
   "source": [
    "## Solving the Problem (Interactive Exercise)\n",
    "Usually in my classes the students work together to come up with a code to solve the problem. There are usually numerous ways to do this; it can be interesting to compare and contrast solutions live in class.\n",
    "\n",
    "### How to choose?\n",
    "When discussing the problem, students usually conclude that whenever the host or player has a choice, they will make it **randomly**. This is implemented by the Python function `random.choice()` that you will see below. **NB:** Sometimes students want to see other strategies like \"always choose the left door\" and these can be implemented as well.\n",
    "\n",
    "### Strategies\n",
    "There are two pure strategies:\n",
    "\n",
    "+ **Stay** where the player sticks with their first choice\n",
    "+ **Switch** where they, well, switch\n",
    "\n",
    "Our program will implement each of these strategies so we can compare them."
   ]
  },
  {
   "cell_type": "code",
   "execution_count": 5,
   "metadata": {
    "collapsed": true
   },
   "outputs": [],
   "source": [
    "DOORS = (1,2,3)\n",
    "\n",
    "def hallpicker(strategy):\n",
    "    prize       = random.choice(DOORS)   # The prize is randomly located\n",
    "    firstchoice = random.choice(DOORS)   # Our player chooses a door at random\n",
    "    \n",
    "    if   strategy == 'stay':\n",
    "        return firstchoice == prize      # TRUE if win; FALSE if lose\n",
    "    elif strategy == 'switch':\n",
    "        hostchoice   = random.choice([x for x in DOORS if x != firstchoice and x != prize])\n",
    "        secondchoice = [x for x in DOORS if x != firstchoice and x != hostchoice]\n",
    "        return   secondchoice[0] == prize\n",
    "    else:\n",
    "        raise ValueError(\"The strategy must be 'stay' or 'switch' only.\")"
   ]
  },
  {
   "cell_type": "markdown",
   "metadata": {},
   "source": [
    "Note that **most** of this code is directly relevant to the problem, that is, it is not **fluff** required by the computer language. From about 1995 to about 2006-7 the most important computer languages were \"fluffy\" with a lot of wasted syntax. The situation has dramatically improved!\n",
    "\n",
    "Using this code we can play the game once or a few times:"
   ]
  },
  {
   "cell_type": "code",
   "execution_count": 6,
   "metadata": {
    "collapsed": false
   },
   "outputs": [
    {
     "data": {
      "text/plain": [
       "False"
      ]
     },
     "execution_count": 6,
     "metadata": {},
     "output_type": "execute_result"
    }
   ],
   "source": [
    "hallpicker('stay')    # True means win; False means lose"
   ]
  },
  {
   "cell_type": "code",
   "execution_count": 7,
   "metadata": {
    "collapsed": false
   },
   "outputs": [
    {
     "data": {
      "text/plain": [
       "True"
      ]
     },
     "execution_count": 7,
     "metadata": {},
     "output_type": "execute_result"
    }
   ],
   "source": [
    "hallpicker('switch')"
   ]
  },
  {
   "cell_type": "code",
   "execution_count": 8,
   "metadata": {
    "collapsed": false
   },
   "outputs": [
    {
     "name": "stdout",
     "output_type": "stream",
     "text": [
      "False\n",
      "True\n",
      "True\n",
      "True\n",
      "False\n",
      "True\n",
      "False\n",
      "False\n",
      "True\n",
      "True\n"
     ]
    }
   ],
   "source": [
    "for i in range(10):              # This is a code that says do it 10 times\n",
    "    print hallpicker('stay')     # So we can see how the \"stay\" strategy looks overall"
   ]
  },
  {
   "cell_type": "code",
   "execution_count": 9,
   "metadata": {
    "collapsed": false
   },
   "outputs": [
    {
     "name": "stdout",
     "output_type": "stream",
     "text": [
      "True\n",
      "True\n",
      "True\n",
      "True\n",
      "True\n",
      "False\n",
      "True\n",
      "True\n",
      "True\n",
      "True\n"
     ]
    }
   ],
   "source": [
    "for i in range(10):\n",
    "    print hallpicker('switch')"
   ]
  },
  {
   "cell_type": "markdown",
   "metadata": {},
   "source": [
    "Now the above might be very convincing to you; part of the job of a statistics class is to make it less convincing! We should look at more cases!\n",
    "\n",
    "The following code allows us to run the experiment 10,000 times all at once. The number is the proportion of **WINS** out of 10,000 plays of the game/strategy. Note that we can override the 10,000 with another number if we need to do so."
   ]
  },
  {
   "cell_type": "code",
   "execution_count": 10,
   "metadata": {
    "collapsed": true
   },
   "outputs": [],
   "source": [
    "def counter(strategy, n=10000):\n",
    "    return sum(hallpicker(strategy) for i in xrange(n))/float(n)"
   ]
  },
  {
   "cell_type": "code",
   "execution_count": 11,
   "metadata": {
    "collapsed": false
   },
   "outputs": [
    {
     "name": "stdout",
     "output_type": "stream",
     "text": [
      "Stay Strategy\t\t0.3323\n",
      "Switch Strategy\t\t0.6557\n"
     ]
    }
   ],
   "source": [
    "print \"Stay Strategy\\t\\t\",   counter(\"stay\")       # the \\t business is to line things up\n",
    "print \"Switch Strategy\\t\\t\", counter(\"switch\")"
   ]
  },
  {
   "cell_type": "markdown",
   "metadata": {},
   "source": [
    "### Graphics\n",
    "Some people like pictures, so here is a statistical histogram of what happens when we do the counter above 100 times:"
   ]
  },
  {
   "cell_type": "code",
   "execution_count": 12,
   "metadata": {
    "collapsed": false
   },
   "outputs": [
    {
     "name": "stdout",
     "output_type": "stream",
     "text": [
      "The average across 100 runs is  0.66555\n"
     ]
    },
    {
     "data": {
      "image/png": "[encoded data removed]",
      "text/plain": [
       "<matplotlib.figure.Figure at 0x10f2e7f50>"
      ]
     },
     "metadata": {},
     "output_type": "display_data"
    }
   ],
   "source": [
    "runs = np.zeros(100) \n",
    "\n",
    "for ii in range(100):\n",
    "    runs[ii] = counter(\"switch\", n=1000)     # Make n smaller for speed! SWITCH strategy\n",
    "    \n",
    "plt.hist(runs)\n",
    "print \"The average across 100 runs is \", np.mean(runs)"
   ]
  },
  {
   "cell_type": "markdown",
   "metadata": {},
   "source": [
    "## More Doors!\n",
    "In every class I have ever taught the first questions is always what happens with more doors? The first issue is that there is another random choice to be made by the player. The code above is easily modified:"
   ]
  },
  {
   "cell_type": "code",
   "execution_count": 13,
   "metadata": {
    "collapsed": true
   },
   "outputs": [],
   "source": [
    "DOORS = (1,2,3)   # Start by making 3 doors again -- we can't break the previous work!\n",
    "\n",
    "def multipicker(strategy):\n",
    "    prize = random.choice(DOORS)\n",
    "    chc1  = random.choice(DOORS)\n",
    "    if strategy == 'stay':\n",
    "        return chc1 == prize\n",
    "    elif strategy == 'switch':\n",
    "        hchc = random.choice([x for x in DOORS if x != chc1 and x != prize])\n",
    "        chc2 = random.choice([x for x in DOORS if x != chc1 and x != hchc])\n",
    "        return chc2 == prize\n",
    "    else:\n",
    "        raise ValueError(\"The strategy must be 'stay' or 'switch' only.\")\n",
    "\n",
    "def multicounter(strategy, n=10000):\n",
    "    return sum(multipicker(strategy) for i in xrange(n))/float(n)"
   ]
  },
  {
   "cell_type": "markdown",
   "metadata": {},
   "source": [
    "An important part of computational thinking is that we need to make sure that when we move into a new case we do not break the previous case; so we start here by testing the case for 3 doors:"
   ]
  },
  {
   "cell_type": "code",
   "execution_count": 14,
   "metadata": {
    "collapsed": false
   },
   "outputs": [
    {
     "name": "stdout",
     "output_type": "stream",
     "text": [
      "stay\t0.3308\n",
      "switch\t0.6633\n"
     ]
    }
   ],
   "source": [
    "print \"stay\\t\", multicounter('stay')\n",
    "print \"switch\\t\", multicounter('switch')"
   ]
  },
  {
   "cell_type": "code",
   "execution_count": 15,
   "metadata": {
    "collapsed": false
   },
   "outputs": [
    {
     "name": "stdout",
     "output_type": "stream",
     "text": [
      "stay\t0.2487\n",
      "switch\t0.372\n"
     ]
    }
   ],
   "source": [
    "DOORS = (1,2,3,4)    # Change to more (4) doors\n",
    "\n",
    "print \"stay\\t\", multicounter('stay')       # Mathematically this is 1/4 = 0.250\n",
    "print \"switch\\t\", multicounter('switch')"
   ]
  },
  {
   "cell_type": "markdown",
   "metadata": {},
   "source": [
    "### What is the Pattern?\n",
    "Usually students want to see what happens as the number of doors change. The following, which has been easy for most students to produce in classroom settings, looks at 3 through 11 doors:"
   ]
  },
  {
   "cell_type": "code",
   "execution_count": 19,
   "metadata": {
    "collapsed": false
   },
   "outputs": [
    {
     "name": "stdout",
     "output_type": "stream",
     "text": [
      "[ 0.6656  0.3747  0.2714  0.2118  0.1732  0.1431  0.1251  0.113   0.1016]\n",
      "[ 0.3294  0.2506  0.2036  0.1638  0.1452  0.13    0.113   0.1033  0.0888]\n"
     ]
    }
   ],
   "source": [
    "DOORS      = (1,2)\n",
    "newDoors   = [3,4,5,6,7,8,9,10,11]\n",
    "switchRuns = np.zeros(len(newDoors))        # These hold the wins from each strategy\n",
    "stayRuns   = np.zeros(len(newDoors))\n",
    "\n",
    "for i,j in enumerate(newDoors):\n",
    "    DOORS         = DOORS + (j,)            # This changes the DOORS each pass\n",
    "    switchRuns[i] = multicounter(\"switch\")\n",
    "    stayRuns[i]   = multicounter(\"stay\")\n",
    "    \n",
    "print switchRuns\n",
    "print stayRuns"
   ]
  },
  {
   "cell_type": "markdown",
   "metadata": {},
   "source": [
    "### Graphs\n",
    "It is not hard to add a quick statistical graph. Each of the commands below, except for the one that says:\n",
    "\n",
    "```python\n",
    "fig, ax = plt.subplots()\n",
    "```\n",
    "is directly related to the figure and is fairly obvious for students in a stats class:"
   ]
  },
  {
   "cell_type": "code",
   "execution_count": 20,
   "metadata": {
    "collapsed": false
   },
   "outputs": [
    {
     "data": {
      "image/png": "[encoded data removed]",
      "text/plain": [
       "<matplotlib.figure.Figure at 0x10f651cd0>"
      ]
     },
     "metadata": {},
     "output_type": "display_data"
    }
   ],
   "source": [
    "xaxis = np.array(newDoors)\n",
    "\n",
    "with plt.style.context('fivethirtyeight'):\n",
    "    fig, ax = plt.subplots()\n",
    "    ax.plot(xaxis, switchRuns, label=\"Switch Wins\")\n",
    "    ax.plot(xaxis, stayRuns,   label='Stay Wins')\n",
    "    ax.legend(loc='upper right')\n",
    "    ax.grid(True)\n",
    "    plt.show()"
   ]
  },
  {
   "cell_type": "markdown",
   "metadata": {},
   "source": [
    "We can zoom in:"
   ]
  },
  {
   "cell_type": "code",
   "execution_count": 21,
   "metadata": {
    "collapsed": false
   },
   "outputs": [
    {
     "data": {
      "image/png": "[encoded data removed]",
      "text/plain": [
       "<matplotlib.figure.Figure at 0x10fe7f610>"
      ]
     },
     "metadata": {},
     "output_type": "display_data"
    }
   ],
   "source": [
    "with plt.style.context('fivethirtyeight'):\n",
    "    fig, ax = plt.subplots()\n",
    "    ax.plot(xaxis, switchRuns, label=\"Switch\")\n",
    "    ax.plot(xaxis, stayRuns,   label='Stay')\n",
    "    ax.legend(loc='upper right')\n",
    "    ax.grid(True)\n",
    "    ax.set_ylim(0.05,0.20)\n",
    "    ax.set_xlim(6, 11)\n",
    "    plt.show()"
   ]
  },
  {
   "cell_type": "markdown",
   "metadata": {},
   "source": [
    "## Show All\n",
    "So what if Monty shows you all but one door from a set of more than 3? This is a little more complicated as we need to randomly pick a door to hold out when the player has picked the prize, or else it is a little obvious.\n",
    "\n",
    "So we assume that Monty opens **all of the doors** except for the player's first choice and just one other are opened by the host."
   ]
  },
  {
   "cell_type": "code",
   "execution_count": 25,
   "metadata": {
    "collapsed": true
   },
   "outputs": [],
   "source": [
    "def showmany(strategy):\n",
    "    prize = random.choice(DOORS)\n",
    "    chc1 = random.choice(DOORS)\n",
    "    if strategy == 'stay':\n",
    "        return chc1 == prize\n",
    "    elif strategy == 'switch':\n",
    "        if chc1 == prize:         # Students noticed that this could be \n",
    "            return False          #    dramatically simplified!\n",
    "        else:\n",
    "            return True\n",
    "    else:\n",
    "        raise ValueError(\"The strategy must be 'stay' or 'switch' only.\")\n",
    "\n",
    "def showManyCounter(strategy, n=10000):\n",
    "    return sum(showmany(strategy) for i in xrange(n))/float(n)"
   ]
  },
  {
   "cell_type": "code",
   "execution_count": 26,
   "metadata": {
    "collapsed": false
   },
   "outputs": [
    {
     "name": "stdout",
     "output_type": "stream",
     "text": [
      "stay\t0.3307\n",
      "switch\t0.6599\n"
     ]
    }
   ],
   "source": [
    "DOORS = (1,2,3)\n",
    "\n",
    "print 'stay\\t',   showManyCounter('stay')\n",
    "print 'switch\\t', showManyCounter('switch')    # so far so good...."
   ]
  },
  {
   "cell_type": "code",
   "execution_count": 27,
   "metadata": {
    "collapsed": false
   },
   "outputs": [
    {
     "name": "stdout",
     "output_type": "stream",
     "text": [
      "stay\t0.203\n",
      "switch\t0.7933\n"
     ]
    }
   ],
   "source": [
    "DOORS = (1,2,3,4,5)\n",
    "\n",
    "print 'stay\\t',   showManyCounter('stay')\n",
    "print 'switch\\t', showManyCounter('switch')    # ????"
   ]
  },
  {
   "cell_type": "code",
   "execution_count": 30,
   "metadata": {
    "collapsed": false
   },
   "outputs": [
    {
     "data": {
      "image/png": "[encoded data removed]",
      "text/plain": [
       "<matplotlib.figure.Figure at 0x1101fd790>"
      ]
     },
     "metadata": {},
     "output_type": "display_data"
    }
   ],
   "source": [
    "DOORS      = (1,2)\n",
    "newDoors   = range (3, 100)\n",
    "switchRuns = np.zeros(len(newDoors))\n",
    "stayRuns   = np.zeros(len(newDoors))\n",
    "\n",
    "for i,j in enumerate(newDoors):\n",
    "    DOORS         = DOORS + (j,)\n",
    "    switchRuns[i] = showManyCounter(\"switch\", n = 1000)    # Note fewer trials in estimate (for speed of demo)\n",
    "    stayRuns[i]   = showManyCounter(\"stay\",   n = 1000)\n",
    "\n",
    "xaxis = np.array(newDoors)\n",
    "\n",
    "with plt.style.context('fivethirtyeight'):\n",
    "    fig, ax = plt.subplots()\n",
    "    ax.plot(xaxis, switchRuns, label=\"Switch\")\n",
    "    ax.plot(xaxis, stayRuns,   label='Stay')\n",
    "    ax.legend(loc='right')\n",
    "    ax.set_ylim(-0.01,1.10)\n",
    "    ax.grid(True)\n",
    "    plt.show()"
   ]
  },
  {
   "cell_type": "markdown",
   "metadata": {
    "collapsed": true
   },
   "source": [
    "If you think about it, this final result makes sense, too! :-)"
   ]
  },
  {
   "cell_type": "code",
   "execution_count": null,
   "metadata": {
    "collapsed": true
   },
   "outputs": [],
   "source": []
  }
 ],
 "metadata": {
  "kernelspec": {
   "display_name": "Python 2",
   "language": "python",
   "name": "python2"
  },
  "language_info": {
   "codemirror_mode": {
    "name": "ipython",
    "version": 2
   },
   "file_extension": ".py",
   "mimetype": "text/x-python",
   "name": "python",
   "nbconvert_exporter": "python",
   "pygments_lexer": "ipython2",
   "version": "2.7.13"
  }
 },
 "nbformat": 4,
 "nbformat_minor": 0
}
